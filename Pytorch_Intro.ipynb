{
  "nbformat": 4,
  "nbformat_minor": 0,
  "metadata": {
    "colab": {
      "name": "Pytorch_Intro.ipynb",
      "provenance": [],
      "collapsed_sections": []
    },
    "kernelspec": {
      "name": "python3",
      "display_name": "Python 3"
    },
    "accelerator": "GPU"
  },
  "cells": [
    {
      "metadata": {
        "id": "KPqFTlOiiiKv"
      },
      "cell_type": "markdown",
      "source": [
        "## Outline\n",
        "* PyTorch\n",
        "* What are tensors\n",
        "* Initialising, slicing, reshaping tensors\n",
        "* Numpy and PyTorch interfacing\n",
        "* GPU support for PyTorch + Enabling GPUs on Google Colab\n",
        "* Speed comparisons, Numpy -- PyTorch -- PyTorch on GPU\n",
        "* Autodiff concepts and application\n",
        "* Writing a basic learning loop using autograd\n",
        "* Exercises"
      ]
    },
    {
      "metadata": {
        "id": "j4wIFDnRakTz"
      },
      "cell_type": "code",
      "source": [
        "import torch\n",
        "import numpy as np\n",
        "import matplotlib.pyplot as plt"
      ],
      "execution_count": 1,
      "outputs": []
    },
    {
      "metadata": {
        "id": "WJyLCI8PcPZq"
      },
      "cell_type": "markdown",
      "source": [
        "## Initialise tensors"
      ]
    },
    {
      "metadata": {
        "id": "NV2jveDIayX-",
        "colab": {
          "base_uri": "https://localhost:8080/"
        },
        "outputId": "845e7836-1943-4154-bdbc-5323e280d88c"
      },
      "cell_type": "code",
      "source": [
        "x = torch.ones(3, 2)\n",
        "print(x)\n",
        "x = torch.zeros(3, 2)\n",
        "print(x)\n",
        "x = torch.rand(3, 2)\n",
        "print(x)"
      ],
      "execution_count": 2,
      "outputs": [
        {
          "output_type": "stream",
          "name": "stdout",
          "text": [
            "tensor([[1., 1.],\n",
            "        [1., 1.],\n",
            "        [1., 1.]])\n",
            "tensor([[0., 0.],\n",
            "        [0., 0.],\n",
            "        [0., 0.]])\n",
            "tensor([[0.5171, 0.0906],\n",
            "        [0.5630, 0.7017],\n",
            "        [0.9114, 0.5540]])\n"
          ]
        }
      ]
    },
    {
      "metadata": {
        "id": "BuAQVNaPFN1P",
        "colab": {
          "base_uri": "https://localhost:8080/"
        },
        "outputId": "df97d142-041f-4d83-c1ad-9ef8ee2e4f76"
      },
      "cell_type": "code",
      "source": [
        "x = torch.empty(3, 2)\n",
        "print(x)\n",
        "y = torch.zeros_like(x)\n",
        "print(y)"
      ],
      "execution_count": 3,
      "outputs": [
        {
          "output_type": "stream",
          "name": "stdout",
          "text": [
            "tensor([[1.1399e-34, 0.0000e+00],\n",
            "        [3.3631e-44, 0.0000e+00],\n",
            "        [       nan, 5.5401e-01]])\n",
            "tensor([[0., 0.],\n",
            "        [0., 0.],\n",
            "        [0., 0.]])\n"
          ]
        }
      ]
    },
    {
      "metadata": {
        "id": "bWrOMr-hFbwo",
        "colab": {
          "base_uri": "https://localhost:8080/"
        },
        "outputId": "a9fa4c8b-5372-45a9-e222-e36a560c29fa"
      },
      "cell_type": "code",
      "source": [
        "x = torch.linspace(0, 1, steps=5)\n",
        "print(x)"
      ],
      "execution_count": 4,
      "outputs": [
        {
          "output_type": "stream",
          "name": "stdout",
          "text": [
            "tensor([0.0000, 0.2500, 0.5000, 0.7500, 1.0000])\n"
          ]
        }
      ]
    },
    {
      "metadata": {
        "id": "l_QspfvYEtuB",
        "colab": {
          "base_uri": "https://localhost:8080/"
        },
        "outputId": "f9c183b2-f4d0-4746-cf00-36ae4d3a168a"
      },
      "cell_type": "code",
      "source": [
        "x = torch.tensor([[1, 2], \n",
        "                 [3, 4], \n",
        "                 [5, 6]])\n",
        "print(x)"
      ],
      "execution_count": 5,
      "outputs": [
        {
          "output_type": "stream",
          "name": "stdout",
          "text": [
            "tensor([[1, 2],\n",
            "        [3, 4],\n",
            "        [5, 6]])\n"
          ]
        }
      ]
    },
    {
      "metadata": {
        "id": "wKub-KJLcSDJ"
      },
      "cell_type": "markdown",
      "source": [
        "## Slicing tensors"
      ]
    },
    {
      "metadata": {
        "id": "UxSlfSVrbH8h",
        "colab": {
          "base_uri": "https://localhost:8080/"
        },
        "outputId": "584717e3-7e28-4186-b55c-2d94c7ce4329"
      },
      "cell_type": "code",
      "source": [
        "print(x.size())\n",
        "print(x[:, 1]) \n",
        "print(x[0, :]) "
      ],
      "execution_count": 6,
      "outputs": [
        {
          "output_type": "stream",
          "name": "stdout",
          "text": [
            "torch.Size([3, 2])\n",
            "tensor([2, 4, 6])\n",
            "tensor([1, 2])\n"
          ]
        }
      ]
    },
    {
      "metadata": {
        "id": "AGWkj2utcrz9",
        "colab": {
          "base_uri": "https://localhost:8080/"
        },
        "outputId": "fd38551b-3ba9-461d-9f90-85de357ada6a"
      },
      "cell_type": "code",
      "source": [
        "y = x[1, 1]\n",
        "print(y)\n",
        "print(y.item())"
      ],
      "execution_count": 7,
      "outputs": [
        {
          "output_type": "stream",
          "name": "stdout",
          "text": [
            "tensor(4)\n",
            "4\n"
          ]
        }
      ]
    },
    {
      "metadata": {
        "id": "6YvWGrX0cUpf"
      },
      "cell_type": "markdown",
      "source": [
        "## Reshaping tensors"
      ]
    },
    {
      "metadata": {
        "id": "mn1q-Hm7b6hP",
        "colab": {
          "base_uri": "https://localhost:8080/"
        },
        "outputId": "4c673fb2-b2ff-4593-f9da-857c863272ad"
      },
      "cell_type": "code",
      "source": [
        "print(x)\n",
        "y = x.view(2, 3)\n",
        "print(y)"
      ],
      "execution_count": 8,
      "outputs": [
        {
          "output_type": "stream",
          "name": "stdout",
          "text": [
            "tensor([[1, 2],\n",
            "        [3, 4],\n",
            "        [5, 6]])\n",
            "tensor([[1, 2, 3],\n",
            "        [4, 5, 6]])\n"
          ]
        }
      ]
    },
    {
      "metadata": {
        "id": "1EbIwPvBF4Lg",
        "colab": {
          "base_uri": "https://localhost:8080/"
        },
        "outputId": "e5d5a218-d8ab-4b89-bb4e-2dd2529cf4e3"
      },
      "cell_type": "code",
      "source": [
        "y = x.view(6,-1) \n",
        "print(y)"
      ],
      "execution_count": 9,
      "outputs": [
        {
          "output_type": "stream",
          "name": "stdout",
          "text": [
            "tensor([[1],\n",
            "        [2],\n",
            "        [3],\n",
            "        [4],\n",
            "        [5],\n",
            "        [6]])\n"
          ]
        }
      ]
    },
    {
      "metadata": {
        "id": "2XxOq0ObdXEC"
      },
      "cell_type": "markdown",
      "source": [
        "## Simple Tensor Operations"
      ]
    },
    {
      "metadata": {
        "id": "Rv4jjqBVdIB2",
        "colab": {
          "base_uri": "https://localhost:8080/"
        },
        "outputId": "ba7e4741-f199-4a85-ad92-05e36ae11d4c"
      },
      "cell_type": "code",
      "source": [
        "x = torch.ones([3, 2])\n",
        "y = torch.ones([3, 2])\n",
        "z = x + y\n",
        "print(z)\n",
        "z = x - y\n",
        "print(z)\n",
        "z = x * y\n",
        "print(z)"
      ],
      "execution_count": 10,
      "outputs": [
        {
          "output_type": "stream",
          "name": "stdout",
          "text": [
            "tensor([[2., 2.],\n",
            "        [2., 2.],\n",
            "        [2., 2.]])\n",
            "tensor([[0., 0.],\n",
            "        [0., 0.],\n",
            "        [0., 0.]])\n",
            "tensor([[1., 1.],\n",
            "        [1., 1.],\n",
            "        [1., 1.]])\n"
          ]
        }
      ]
    },
    {
      "metadata": {
        "id": "dVHnXB78dl8s",
        "colab": {
          "base_uri": "https://localhost:8080/"
        },
        "outputId": "1f19f936-5900-4798-ac67-0c5580f55a8e"
      },
      "cell_type": "code",
      "source": [
        "z = y.add(x)\n",
        "print(z)\n",
        "print(y)"
      ],
      "execution_count": 11,
      "outputs": [
        {
          "output_type": "stream",
          "name": "stdout",
          "text": [
            "tensor([[2., 2.],\n",
            "        [2., 2.],\n",
            "        [2., 2.]])\n",
            "tensor([[1., 1.],\n",
            "        [1., 1.],\n",
            "        [1., 1.]])\n"
          ]
        }
      ]
    },
    {
      "metadata": {
        "id": "LewBBuz_eL1m",
        "colab": {
          "base_uri": "https://localhost:8080/"
        },
        "outputId": "b296b6ce-433c-485a-c4cb-1fa8940063b0"
      },
      "cell_type": "code",
      "source": [
        "z = y.add_(x)\n",
        "print(z)\n",
        "print(y)"
      ],
      "execution_count": 12,
      "outputs": [
        {
          "output_type": "stream",
          "name": "stdout",
          "text": [
            "tensor([[2., 2.],\n",
            "        [2., 2.],\n",
            "        [2., 2.]])\n",
            "tensor([[2., 2.],\n",
            "        [2., 2.],\n",
            "        [2., 2.]])\n"
          ]
        }
      ]
    },
    {
      "metadata": {
        "id": "PDuBSdzTc2Bq"
      },
      "cell_type": "markdown",
      "source": [
        "## Numpy <> PyTorch"
      ]
    },
    {
      "metadata": {
        "id": "NlvqO8_1ccML",
        "colab": {
          "base_uri": "https://localhost:8080/"
        },
        "outputId": "2720cdca-b1ab-4b66-caec-a6c387c8245d"
      },
      "cell_type": "code",
      "source": [
        "x_np = x.numpy()\n",
        "print(type(x), type(x_np))\n",
        "print(x_np)"
      ],
      "execution_count": 13,
      "outputs": [
        {
          "output_type": "stream",
          "name": "stdout",
          "text": [
            "<class 'torch.Tensor'> <class 'numpy.ndarray'>\n",
            "[[1. 1.]\n",
            " [1. 1.]\n",
            " [1. 1.]]\n"
          ]
        }
      ]
    },
    {
      "metadata": {
        "id": "tLhS3Hrmc-M2",
        "colab": {
          "base_uri": "https://localhost:8080/"
        },
        "outputId": "7edbc010-9489-4d49-dd15-6ba5b3a2131a"
      },
      "cell_type": "code",
      "source": [
        "a = np.random.randn(5)\n",
        "print(a)\n",
        "a_pt = torch.from_numpy(a)\n",
        "print(type(a), type(a_pt))\n",
        "print(a_pt)"
      ],
      "execution_count": 14,
      "outputs": [
        {
          "output_type": "stream",
          "name": "stdout",
          "text": [
            "[ 1.33879156 -0.10859897 -0.32704016 -0.68663    -1.61033064]\n",
            "<class 'numpy.ndarray'> <class 'torch.Tensor'>\n",
            "tensor([ 1.3388, -0.1086, -0.3270, -0.6866, -1.6103], dtype=torch.float64)\n"
          ]
        }
      ]
    },
    {
      "metadata": {
        "id": "kwZhRYVtdp-X",
        "colab": {
          "base_uri": "https://localhost:8080/"
        },
        "outputId": "036efba8-ae4b-4f6e-cca0-5d6c6e3fadc1"
      },
      "cell_type": "code",
      "source": [
        "np.add(a, 1, out=a)\n",
        "print(a)\n",
        "print(a_pt) "
      ],
      "execution_count": 15,
      "outputs": [
        {
          "output_type": "stream",
          "name": "stdout",
          "text": [
            "[ 2.33879156  0.89140103  0.67295984  0.31337    -0.61033064]\n",
            "tensor([ 2.3388,  0.8914,  0.6730,  0.3134, -0.6103], dtype=torch.float64)\n"
          ]
        }
      ]
    },
    {
      "metadata": {
        "id": "6z-Mhf2hewcU",
        "colab": {
          "base_uri": "https://localhost:8080/"
        },
        "outputId": "7afc171c-91d8-40d8-ee6e-dbf6e0e0259a"
      },
      "cell_type": "code",
      "source": [
        "%%time\n",
        "for i in range(100):\n",
        "  a = np.random.randn(100,100)\n",
        "  b = np.random.randn(100,100)\n",
        "  c = np.matmul(a, b)"
      ],
      "execution_count": 16,
      "outputs": [
        {
          "output_type": "stream",
          "name": "stdout",
          "text": [
            "CPU times: user 157 ms, sys: 162 ms, total: 319 ms\n",
            "Wall time: 325 ms\n"
          ]
        }
      ]
    },
    {
      "metadata": {
        "id": "aFzIX2qge3x9",
        "colab": {
          "base_uri": "https://localhost:8080/"
        },
        "outputId": "8818f392-c2c0-4b2f-e59d-d5818262e2ce"
      },
      "cell_type": "code",
      "source": [
        "%%time\n",
        "for i in range(100):\n",
        "  a = torch.randn([100, 100])\n",
        "  b = torch.randn([100, 100])\n",
        "  c = torch.matmul(a, b)"
      ],
      "execution_count": 17,
      "outputs": [
        {
          "output_type": "stream",
          "name": "stdout",
          "text": [
            "CPU times: user 41.7 ms, sys: 49.2 ms, total: 90.8 ms\n",
            "Wall time: 94.2 ms\n"
          ]
        }
      ]
    },
    {
      "metadata": {
        "id": "Pdat0Hnm6hGA",
        "colab": {
          "base_uri": "https://localhost:8080/"
        },
        "outputId": "e6a080a4-f70e-4f64-ef90-a89ee08d79b0"
      },
      "cell_type": "code",
      "source": [
        "%%time\n",
        "for i in range(10):\n",
        "  a = np.random.randn(10000,10000)\n",
        "  b = np.random.randn(10000,10000)\n",
        "  c = a + b"
      ],
      "execution_count": 18,
      "outputs": [
        {
          "output_type": "stream",
          "name": "stdout",
          "text": [
            "CPU times: user 1min 19s, sys: 1.02 s, total: 1min 20s\n",
            "Wall time: 1min 21s\n"
          ]
        }
      ]
    },
    {
      "metadata": {
        "id": "XlRx5OKl6kEq",
        "colab": {
          "base_uri": "https://localhost:8080/"
        },
        "outputId": "c37a2c22-1368-4c64-f0c8-267a89978b4c"
      },
      "cell_type": "code",
      "source": [
        "%%time\n",
        "for i in range(10):\n",
        "  a = torch.randn([10000, 10000])\n",
        "  b = torch.randn([10000, 10000])\n",
        "  c = a + b"
      ],
      "execution_count": 19,
      "outputs": [
        {
          "output_type": "stream",
          "name": "stdout",
          "text": [
            "CPU times: user 18.8 s, sys: 104 ms, total: 18.9 s\n",
            "Wall time: 19.4 s\n"
          ]
        }
      ]
    },
    {
      "metadata": {
        "id": "de5YwtfUgMWO"
      },
      "cell_type": "markdown",
      "source": [
        "## CUDA support"
      ]
    },
    {
      "metadata": {
        "id": "-nI4nYcWgY1B",
        "colab": {
          "base_uri": "https://localhost:8080/"
        },
        "outputId": "0d19c64a-e890-4b9b-db01-eb9b2df2eb9b"
      },
      "cell_type": "code",
      "source": [
        "print(torch.cuda.device_count())"
      ],
      "execution_count": 20,
      "outputs": [
        {
          "output_type": "stream",
          "name": "stdout",
          "text": [
            "1\n"
          ]
        }
      ]
    },
    {
      "metadata": {
        "id": "_3E-PMC1gfKU",
        "colab": {
          "base_uri": "https://localhost:8080/"
        },
        "outputId": "2f4cd2fa-59ec-4f4c-fab8-7f870c0b1343"
      },
      "cell_type": "code",
      "source": [
        "print(torch.cuda.device(0))\n",
        "print(torch.cuda.get_device_name(0))"
      ],
      "execution_count": 21,
      "outputs": [
        {
          "output_type": "stream",
          "name": "stdout",
          "text": [
            "<torch.cuda.device object at 0x7f0c7d4eae50>\n",
            "Tesla K80\n"
          ]
        }
      ]
    },
    {
      "metadata": {
        "id": "_eZYxVpMgor4"
      },
      "cell_type": "code",
      "source": [
        "cuda0 = torch.device('cuda:0')"
      ],
      "execution_count": 22,
      "outputs": []
    },
    {
      "metadata": {
        "id": "j1r7y57x9JZU",
        "colab": {
          "base_uri": "https://localhost:8080/"
        },
        "outputId": "56f939f8-94f9-432b-a25f-b070ab7cc3a0"
      },
      "cell_type": "code",
      "source": [
        "a = torch.ones(3, 2, device=cuda0)\n",
        "b = torch.ones(3, 2, device=cuda0)\n",
        "c = a + b\n",
        "print(c)"
      ],
      "execution_count": 23,
      "outputs": [
        {
          "output_type": "stream",
          "name": "stdout",
          "text": [
            "tensor([[2., 2.],\n",
            "        [2., 2.],\n",
            "        [2., 2.]], device='cuda:0')\n"
          ]
        }
      ]
    },
    {
      "metadata": {
        "id": "wSt3W1s-_Gc3",
        "colab": {
          "base_uri": "https://localhost:8080/"
        },
        "outputId": "bc339a04-6ebd-48a2-e8a6-570d63b46160"
      },
      "cell_type": "code",
      "source": [
        "print(a)"
      ],
      "execution_count": 24,
      "outputs": [
        {
          "output_type": "stream",
          "name": "stdout",
          "text": [
            "tensor([[1., 1.],\n",
            "        [1., 1.],\n",
            "        [1., 1.]], device='cuda:0')\n"
          ]
        }
      ]
    },
    {
      "metadata": {
        "id": "sVfOAU2EfTXB",
        "colab": {
          "base_uri": "https://localhost:8080/"
        },
        "outputId": "ee98b4b6-2ea0-46a2-9967-605a905ecc3e"
      },
      "cell_type": "code",
      "source": [
        "%%time\n",
        "for i in range(10):\n",
        "  a = np.random.randn(10000,10000)\n",
        "  b = np.random.randn(10000,10000)\n",
        "  np.add(b, a)"
      ],
      "execution_count": 25,
      "outputs": [
        {
          "output_type": "stream",
          "name": "stdout",
          "text": [
            "CPU times: user 1min 18s, sys: 377 ms, total: 1min 18s\n",
            "Wall time: 1min 18s\n"
          ]
        }
      ]
    },
    {
      "metadata": {
        "id": "G9GLUek5hCfn",
        "colab": {
          "base_uri": "https://localhost:8080/"
        },
        "outputId": "4da36a43-ce86-45a0-979a-5521e8dd182d"
      },
      "cell_type": "code",
      "source": [
        "%%time\n",
        "for i in range(10):\n",
        "  a_cpu = torch.randn([10000, 10000])\n",
        "  b_cpu = torch.randn([10000, 10000])\n",
        "  b_cpu.add_(a_cpu)"
      ],
      "execution_count": 26,
      "outputs": [
        {
          "output_type": "stream",
          "name": "stdout",
          "text": [
            "CPU times: user 17.2 s, sys: 258 ms, total: 17.5 s\n",
            "Wall time: 17.4 s\n"
          ]
        }
      ]
    },
    {
      "metadata": {
        "id": "FqSYioGrgyMI",
        "colab": {
          "base_uri": "https://localhost:8080/"
        },
        "outputId": "cc541a7e-d8b9-4b20-c4f1-c259c540542b"
      },
      "cell_type": "code",
      "source": [
        "%%time\n",
        "for i in range(10):\n",
        "  a = torch.randn([10000, 10000], device=cuda0)\n",
        "  b = torch.randn([10000, 10000], device=cuda0)\n",
        "  b.add_(a)"
      ],
      "execution_count": 27,
      "outputs": [
        {
          "output_type": "stream",
          "name": "stdout",
          "text": [
            "CPU times: user 957 µs, sys: 4 ms, total: 4.96 ms\n",
            "Wall time: 8.26 ms\n"
          ]
        }
      ]
    },
    {
      "metadata": {
        "id": "avFqbCgXjT3F",
        "colab": {
          "base_uri": "https://localhost:8080/"
        },
        "outputId": "b8a4dd6a-eca5-48ed-9cf0-ac64ebb9e560"
      },
      "cell_type": "code",
      "source": [
        "%%time\n",
        "for i in range(10):\n",
        "  a_cpu = torch.randn([10000, 10000])\n",
        "  b_cpu = torch.randn([10000, 10000])\n",
        "  torch.matmul(a_cpu, b_cpu)"
      ],
      "execution_count": 29,
      "outputs": [
        {
          "output_type": "stream",
          "name": "stdout",
          "text": [
            "CPU times: user 4min 40s, sys: 363 ms, total: 4min 41s\n",
            "Wall time: 4min 39s\n"
          ]
        }
      ]
    },
    {
      "metadata": {
        "id": "hFfMhN2gjlZJ",
        "colab": {
          "base_uri": "https://localhost:8080/"
        },
        "outputId": "9c5fe385-280e-4e01-ab96-5634821cfbf4"
      },
      "cell_type": "code",
      "source": [
        "%%time\n",
        "for i in range(10):\n",
        "  a = torch.randn([10000, 10000], device=cuda0)\n",
        "  b = torch.randn([10000, 10000], device=cuda0)\n",
        "  torch.matmul(a, b)"
      ],
      "execution_count": 30,
      "outputs": [
        {
          "output_type": "stream",
          "name": "stdout",
          "text": [
            "CPU times: user 4.09 ms, sys: 0 ns, total: 4.09 ms\n",
            "Wall time: 23.9 ms\n"
          ]
        }
      ]
    },
    {
      "metadata": {
        "id": "P_6TU64Gi7jv"
      },
      "cell_type": "markdown",
      "source": [
        "## Autodiff"
      ]
    },
    {
      "metadata": {
        "id": "PjySsLMThEX7",
        "outputId": "b61ea3f1-43ea-437a-806a-a23a60a160c6",
        "colab": {
          "base_uri": "https://localhost:8080/"
        }
      },
      "cell_type": "code",
      "source": [
        "x = torch.ones([3, 2], requires_grad=True)\n",
        "print(x)"
      ],
      "execution_count": 31,
      "outputs": [
        {
          "output_type": "stream",
          "name": "stdout",
          "text": [
            "tensor([[1., 1.],\n",
            "        [1., 1.],\n",
            "        [1., 1.]], requires_grad=True)\n"
          ]
        }
      ]
    },
    {
      "metadata": {
        "id": "neb3oFWBjAtJ",
        "outputId": "c121a68c-d649-4da2-9bb8-da9b366ee887",
        "colab": {
          "base_uri": "https://localhost:8080/"
        }
      },
      "cell_type": "code",
      "source": [
        "y = x + 5\n",
        "print(y)"
      ],
      "execution_count": 32,
      "outputs": [
        {
          "output_type": "stream",
          "name": "stdout",
          "text": [
            "tensor([[6., 6.],\n",
            "        [6., 6.],\n",
            "        [6., 6.]], grad_fn=<AddBackward0>)\n"
          ]
        }
      ]
    },
    {
      "metadata": {
        "id": "5M0pnstAjLa-",
        "outputId": "c7fd5a53-e265-489d-dada-df7397b56a52",
        "colab": {
          "base_uri": "https://localhost:8080/"
        }
      },
      "cell_type": "code",
      "source": [
        "z = y*y + 1\n",
        "print(z)"
      ],
      "execution_count": 33,
      "outputs": [
        {
          "output_type": "stream",
          "name": "stdout",
          "text": [
            "tensor([[37., 37.],\n",
            "        [37., 37.],\n",
            "        [37., 37.]], grad_fn=<AddBackward0>)\n"
          ]
        }
      ]
    },
    {
      "metadata": {
        "id": "wHHDSmiUkMOw",
        "outputId": "7424b466-3fa9-4db6-c0d6-bd37f24ea68c",
        "colab": {
          "base_uri": "https://localhost:8080/"
        }
      },
      "cell_type": "code",
      "source": [
        "t = torch.sum(z)\n",
        "print(t)"
      ],
      "execution_count": 34,
      "outputs": [
        {
          "output_type": "stream",
          "name": "stdout",
          "text": [
            "tensor(222., grad_fn=<SumBackward0>)\n"
          ]
        }
      ]
    },
    {
      "metadata": {
        "id": "AXj896azkM_S"
      },
      "cell_type": "code",
      "source": [
        "t.backward()"
      ],
      "execution_count": 35,
      "outputs": []
    },
    {
      "metadata": {
        "id": "wSYAcNN1lAWS",
        "outputId": "18d0213a-cc1e-4e4f-b78a-d40affe589fd",
        "colab": {
          "base_uri": "https://localhost:8080/"
        }
      },
      "cell_type": "code",
      "source": [
        "print(x.grad)"
      ],
      "execution_count": 36,
      "outputs": [
        {
          "output_type": "stream",
          "name": "stdout",
          "text": [
            "tensor([[12., 12.],\n",
            "        [12., 12.],\n",
            "        [12., 12.]])\n"
          ]
        }
      ]
    },
    {
      "metadata": {
        "id": "6nrD44oJiEIY"
      },
      "cell_type": "markdown",
      "source": [
        "$t = \\sum_i z_i, z_i = y_i^2 + 1, y_i = x_i + 5$\n",
        "\n",
        "$\\frac{\\partial t}{\\partial x_i} = \\frac{\\partial z_i}{\\partial x_i} = \\frac{\\partial z_i}{\\partial y_i} \\frac{\\partial y_i}{\\partial x_i} = 2y_i \\times 1$\n",
        "\n",
        "\n",
        "At x = 1, y = 6, $\\frac{\\partial t}{\\partial x_i} = 12$"
      ]
    },
    {
      "metadata": {
        "id": "ZFCWPPAP6ipv",
        "colab": {
          "base_uri": "https://localhost:8080/"
        },
        "outputId": "30be67c4-8080-4108-d326-36f0b3b4d41a"
      },
      "cell_type": "code",
      "source": [
        "x = torch.ones([3, 2], requires_grad=True)\n",
        "y = x + 5\n",
        "r = 1/(1 + torch.exp(-y))\n",
        "print(r)\n",
        "s = torch.sum(r)\n",
        "s.backward()\n",
        "print(x.grad)"
      ],
      "execution_count": 37,
      "outputs": [
        {
          "output_type": "stream",
          "name": "stdout",
          "text": [
            "tensor([[0.9975, 0.9975],\n",
            "        [0.9975, 0.9975],\n",
            "        [0.9975, 0.9975]], grad_fn=<MulBackward0>)\n",
            "tensor([[0.0025, 0.0025],\n",
            "        [0.0025, 0.0025],\n",
            "        [0.0025, 0.0025]])\n"
          ]
        }
      ]
    },
    {
      "metadata": {
        "id": "Ts1wsONqlE5h",
        "outputId": "78e799e1-3ea8-4235-9c30-01cf92d2b51d",
        "colab": {
          "base_uri": "https://localhost:8080/"
        }
      },
      "cell_type": "code",
      "source": [
        "x = torch.ones([3, 2], requires_grad=True)\n",
        "y = x + 5\n",
        "r = 1/(1 + torch.exp(-y))\n",
        "a = torch.ones([3, 2])\n",
        "r.backward(a)\n",
        "print(x.grad)"
      ],
      "execution_count": 38,
      "outputs": [
        {
          "output_type": "stream",
          "name": "stdout",
          "text": [
            "tensor([[0.0025, 0.0025],\n",
            "        [0.0025, 0.0025],\n",
            "        [0.0025, 0.0025]])\n"
          ]
        }
      ]
    },
    {
      "metadata": {
        "id": "56AqY5hY77dx"
      },
      "cell_type": "markdown",
      "source": [
        "$\\frac{\\partial{s}}{\\partial{x}} = \\frac{\\partial{s}}{\\partial{r}} \\cdot \\frac{\\partial{r}}{\\partial{x}}$\n",
        "\n",
        "For the above code $a$ represents $\\frac{\\partial{s}}{\\partial{r}}$ and then $x.grad$ gives directly $\\frac{\\partial{s}}{\\partial{x}}$\n",
        "\n"
      ]
    },
    {
      "metadata": {
        "id": "AKhxwdYUpUfj"
      },
      "cell_type": "markdown",
      "source": [
        "## Autodiff example that looks like what we have been doing"
      ]
    },
    {
      "metadata": {
        "id": "THNkQLR6mmpO"
      },
      "cell_type": "code",
      "source": [
        "x = torch.randn([20, 1], requires_grad=True)\n",
        "y = 3*x - 2"
      ],
      "execution_count": 39,
      "outputs": []
    },
    {
      "metadata": {
        "id": "-t4_8qgdnjDk"
      },
      "cell_type": "code",
      "source": [
        "w = torch.tensor([1.], requires_grad=True)\n",
        "b = torch.tensor([1.], requires_grad=True)\n",
        "\n",
        "y_hat = w*x + b\n",
        "\n",
        "loss = torch.sum((y_hat - y)**2)"
      ],
      "execution_count": 40,
      "outputs": []
    },
    {
      "metadata": {
        "id": "Gvpc37u-o6ob",
        "outputId": "ec769cd4-9d6a-4535-9130-0b0b0bd04bcf",
        "colab": {
          "base_uri": "https://localhost:8080/"
        }
      },
      "cell_type": "code",
      "source": [
        "print(loss)"
      ],
      "execution_count": 41,
      "outputs": [
        {
          "output_type": "stream",
          "name": "stdout",
          "text": [
            "tensor(319.0335, grad_fn=<SumBackward0>)\n"
          ]
        }
      ]
    },
    {
      "metadata": {
        "id": "-tnKq6DXo-RB"
      },
      "cell_type": "code",
      "source": [
        "loss.backward()"
      ],
      "execution_count": 42,
      "outputs": []
    },
    {
      "metadata": {
        "id": "I38qmZLhpM2F",
        "outputId": "6b78140e-08d7-461a-f808-d8011c5e1242",
        "colab": {
          "base_uri": "https://localhost:8080/"
        }
      },
      "cell_type": "code",
      "source": [
        "print(w.grad, b.grad)"
      ],
      "execution_count": 43,
      "outputs": [
        {
          "output_type": "stream",
          "name": "stdout",
          "text": [
            "tensor([-121.7079]) tensor([131.5504])\n"
          ]
        }
      ]
    },
    {
      "metadata": {
        "id": "WfDV6saTq8XA"
      },
      "cell_type": "markdown",
      "source": [
        "## Do it in a loop"
      ]
    },
    {
      "metadata": {
        "id": "ivmJgJQTpN79",
        "outputId": "5385a844-8780-4388-c2ae-f6786b845bb5",
        "colab": {
          "base_uri": "https://localhost:8080/"
        }
      },
      "cell_type": "code",
      "source": [
        "learning_rate = 0.01\n",
        "\n",
        "w = torch.tensor([1.], requires_grad=True)\n",
        "b = torch.tensor([1.], requires_grad=True)\n",
        "\n",
        "print(w.item(), b.item())\n",
        "\n",
        "for i in range(10):\n",
        "  \n",
        "  x = torch.randn([20, 1])\n",
        "  y = 3*x - 2\n",
        "  \n",
        "  y_hat = w*x + b\n",
        "  loss = torch.sum((y_hat - y)**2)\n",
        "  \n",
        "  loss.backward()\n",
        "  \n",
        "  with torch.no_grad():\n",
        "    w -= learning_rate * w.grad\n",
        "    b -= learning_rate * b.grad\n",
        "    \n",
        "    w.grad.zero_()\n",
        "    b.grad.zero_()\n",
        "\n",
        "  print(w.item(), b.item())\n",
        "  "
      ],
      "execution_count": 44,
      "outputs": [
        {
          "output_type": "stream",
          "name": "stdout",
          "text": [
            "1.0 1.0\n",
            "2.2815935611724854 -0.42157304286956787\n",
            "2.692042350769043 -1.0950543880462646\n",
            "2.773167371749878 -1.43399178981781\n",
            "2.790182113647461 -1.64342200756073\n",
            "2.8541195392608643 -1.7705427408218384\n",
            "2.9434943199157715 -1.8720308542251587\n",
            "2.961571455001831 -1.9218047857284546\n",
            "3.0002686977386475 -1.9600026607513428\n",
            "3.003004789352417 -1.9759827852249146\n",
            "3.000840663909912 -1.9856624603271484\n"
          ]
        }
      ]
    },
    {
      "metadata": {
        "id": "vyOqrZZiuLkl"
      },
      "cell_type": "markdown",
      "source": [
        "## Do it for a large problem"
      ]
    },
    {
      "metadata": {
        "id": "qq3Iykk1rMfh",
        "outputId": "712ef104-c3e4-47e2-b12b-17aedcf0b685",
        "colab": {
          "base_uri": "https://localhost:8080/"
        }
      },
      "cell_type": "code",
      "source": [
        "%%time\n",
        "learning_rate = 0.001\n",
        "N = 10000000\n",
        "epochs = 200\n",
        "\n",
        "w = torch.rand([N], requires_grad=True)\n",
        "b = torch.ones([1], requires_grad=True)\n",
        "\n",
        "# print(torch.mean(w).item(), b.item())\n",
        "\n",
        "for i in range(epochs):\n",
        "  \n",
        "  x = torch.randn([N])\n",
        "  y = torch.dot(3*torch.ones([N]), x) - 2\n",
        "  \n",
        "  y_hat = torch.dot(w, x) + b\n",
        "  loss = torch.sum((y_hat - y)**2)\n",
        "  \n",
        "  loss.backward()\n",
        "  \n",
        "  with torch.no_grad():\n",
        "    w -= learning_rate * w.grad\n",
        "    b -= learning_rate * b.grad\n",
        "    \n",
        "    w.grad.zero_()\n",
        "    b.grad.zero_()\n",
        "\n",
        "#   print(torch.mean(w).item(), b.item())\n",
        "  "
      ],
      "execution_count": 45,
      "outputs": [
        {
          "output_type": "stream",
          "name": "stdout",
          "text": [
            "CPU times: user 31.9 s, sys: 343 ms, total: 32.2 s\n",
            "Wall time: 31.9 s\n"
          ]
        }
      ]
    },
    {
      "metadata": {
        "id": "owaeEn4A01zF",
        "colab": {
          "base_uri": "https://localhost:8080/"
        },
        "outputId": "79b3b99f-509c-4a66-e658-a10a8ced9eb7"
      },
      "cell_type": "code",
      "source": [
        "%%time\n",
        "learning_rate = 0.001\n",
        "N = 10000000\n",
        "epochs = 200\n",
        "\n",
        "w = torch.rand([N], requires_grad=True, device=cuda0)\n",
        "b = torch.ones([1], requires_grad=True, device=cuda0)\n",
        "\n",
        "# print(torch.mean(w).item(), b.item())\n",
        "\n",
        "for i in range(epochs):\n",
        "  \n",
        "  x = torch.randn([N], device=cuda0)\n",
        "  y = torch.dot(3*torch.ones([N], device=cuda0), x) - 2\n",
        "  \n",
        "  y_hat = torch.dot(w, x) + b\n",
        "  loss = torch.sum((y_hat - y)**2)\n",
        "  \n",
        "  loss.backward()\n",
        "  \n",
        "  with torch.no_grad():\n",
        "    w -= learning_rate * w.grad\n",
        "    b -= learning_rate * b.grad\n",
        "    \n",
        "    w.grad.zero_()\n",
        "    b.grad.zero_()\n",
        "\n",
        "  #print(torch.mean(w).item(), b.item())\n",
        "  "
      ],
      "execution_count": 46,
      "outputs": [
        {
          "output_type": "stream",
          "name": "stdout",
          "text": [
            "CPU times: user 453 ms, sys: 414 ms, total: 866 ms\n",
            "Wall time: 897 ms\n"
          ]
        }
      ]
    },
    {
      "metadata": {
        "id": "4TmBA3VO9Jva"
      },
      "cell_type": "code",
      "source": [
        ""
      ],
      "execution_count": 46,
      "outputs": []
    }
  ]
}